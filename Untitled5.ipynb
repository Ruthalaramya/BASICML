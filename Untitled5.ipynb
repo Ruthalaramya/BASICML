{
  "nbformat": 4,
  "nbformat_minor": 0,
  "metadata": {
    "colab": {
      "provenance": [],
      "authorship_tag": "ABX9TyPFBdTKaohcsHrJoGRk9lmz",
      "include_colab_link": true
    },
    "kernelspec": {
      "name": "python3",
      "display_name": "Python 3"
    },
    "language_info": {
      "name": "python"
    }
  },
  "cells": [
    {
      "cell_type": "markdown",
      "metadata": {
        "id": "view-in-github",
        "colab_type": "text"
      },
      "source": [
        "<a href=\"https://colab.research.google.com/github/Ruthalaramya/BASICML/blob/main/Untitled5.ipynb\" target=\"_parent\"><img src=\"https://colab.research.google.com/assets/colab-badge.svg\" alt=\"Open In Colab\"/></a>"
      ]
    },
    {
      "cell_type": "code",
      "source": [
        "import pandas as pd\n",
        "import numpy as np\n",
        "import matplotlib.pyplot as plt"
      ],
      "metadata": {
        "id": "MAnBKsqGznqk"
      },
      "execution_count": 5,
      "outputs": []
    },
    {
      "cell_type": "code",
      "source": [
        " df=pd.read_csv('/content/students_placement_data (3).csv') "
      ],
      "metadata": {
        "id": "6o4sOWuTtpEW"
      },
      "execution_count": 6,
      "outputs": []
    },
    {
      "cell_type": "code",
      "source": [
        "df.info()"
      ],
      "metadata": {
        "colab": {
          "base_uri": "https://localhost:8080/"
        },
        "id": "ylmwIejU0KqR",
        "outputId": "8421e4a4-68ec-4d7d-ab44-4c149c225c05"
      },
      "execution_count": 7,
      "outputs": [
        {
          "output_type": "stream",
          "name": "stdout",
          "text": [
            "<class 'pandas.core.frame.DataFrame'>\n",
            "RangeIndex: 117 entries, 0 to 116\n",
            "Data columns (total 9 columns):\n",
            " #   Column                              Non-Null Count  Dtype  \n",
            "---  ------                              --------------  -----  \n",
            " 0   Roll No                             117 non-null    int64  \n",
            " 1   Gender                              117 non-null    object \n",
            " 2   Section                             117 non-null    object \n",
            " 3   SSC Percentage                      116 non-null    float64\n",
            " 4   inter_Diploma_percentage            117 non-null    float64\n",
            " 5   B.Tech_percentage                   116 non-null    float64\n",
            " 6   Backlogs                            117 non-null    int64  \n",
            " 7   registered_for_ Placement_Training  116 non-null    object \n",
            " 8   placement status                    117 non-null    object \n",
            "dtypes: float64(3), int64(2), object(4)\n",
            "memory usage: 8.4+ KB\n"
          ]
        }
      ]
    },
    {
      "cell_type": "code",
      "source": [
        "df.dtypes"
      ],
      "metadata": {
        "colab": {
          "base_uri": "https://localhost:8080/"
        },
        "id": "Q2uumuUm0P4Y",
        "outputId": "6e24be9e-ba1d-459f-9077-ee7ed270e9e4"
      },
      "execution_count": 10,
      "outputs": [
        {
          "output_type": "execute_result",
          "data": {
            "text/plain": [
              "Roll No                                 int64\n",
              "Gender                                 object\n",
              "Section                                object\n",
              "SSC Percentage                        float64\n",
              "inter_Diploma_percentage              float64\n",
              "B.Tech_percentage                     float64\n",
              "Backlogs                                int64\n",
              "registered_for_ Placement_Training     object\n",
              "placement status                       object\n",
              "dtype: object"
            ]
          },
          "metadata": {},
          "execution_count": 10
        }
      ]
    },
    {
      "cell_type": "code",
      "source": [
        "X=df['SSC Percentage'].values\n",
        "y=df['B.Tech_percentage'].values\n",
        "x=df['inter_Diploma_percentage'].values\n"
      ],
      "metadata": {
        "id": "QIVlnk530bEZ"
      },
      "execution_count": 13,
      "outputs": []
    },
    {
      "cell_type": "code",
      "source": [
        "plt.scatter(X,y)\n",
        "plt.show()"
      ],
      "metadata": {
        "colab": {
          "base_uri": "https://localhost:8080/",
          "height": 265
        },
        "id": "C3G2wDgZ1j50",
        "outputId": "45466326-87e6-48a6-e583-b2a6fb0563ed"
      },
      "execution_count": 14,
      "outputs": [
        {
          "output_type": "display_data",
          "data": {
            "text/plain": [
              "<Figure size 432x288 with 1 Axes>"
            ],
            "image/png": "[encoded data removed]"
          },
          "metadata": {
            "needs_background": "light"
          }
        }
      ]
    },
    {
      "cell_type": "code",
      "source": [
        "plt.scatter(X,x)\n",
        "plt.show()"
      ],
      "metadata": {
        "colab": {
          "base_uri": "https://localhost:8080/",
          "height": 265
        },
        "id": "7yyBwzWi1ys0",
        "outputId": "7df32773-fb39-4858-b990-24874ac54905"
      },
      "execution_count": 15,
      "outputs": [
        {
          "output_type": "display_data",
          "data": {
            "text/plain": [
              "<Figure size 432x288 with 1 Axes>"
            ],
            "image/png": "[encoded data removed]"
          },
          "metadata": {
            "needs_background": "light"
          }
        }
      ]
    }
  ]
}